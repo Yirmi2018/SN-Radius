{
 "cells": [
  {
   "cell_type": "markdown",
   "id": "adb085db",
   "metadata": {},
   "source": [
    "## Post-shock energy density and Magnetic energy density"
   ]
  },
  {
   "cell_type": "markdown",
   "id": "a85e0912",
   "metadata": {},
   "source": [
    "The kinetic energy of a single monoatomic particle, for an ideal gas, is $\\frac{3}{2}k_{B}T$. \n",
    "This energy is also defined as the internal energy of a system.\n",
    "The energy for N particles is then $U=\\frac{3}{2}Nk_{B}T$. \n",
    "\n",
    "We define the internal energy density as $U_{den}=\\frac{U}{V}$ hence:\n",
    "\n",
    "$U_{den}=\\frac{3}{2}\\frac{N}{V}k_{B}T$"
   ]
  },
  {
   "cell_type": "markdown",
   "id": "d3a0a684",
   "metadata": {},
   "source": [
    "For an ideal gas we have the following thermodyanic relationship: $PV=nRT$"
   ]
  },
  {
   "cell_type": "markdown",
   "id": "6d9713aa",
   "metadata": {},
   "source": [
    "By definition $R=N_{A}k_{B}$ and $N=nN_{A}$ hence $PV=Nk_{B}T$ of which we can write $P=\\frac{N}{V}k_{B}T$ "
   ]
  },
  {
   "cell_type": "markdown",
   "id": "dc9b44d7",
   "metadata": {},
   "source": [
    "Hence $U_{den}=\\frac{3}{2}P$"
   ]
  },
  {
   "cell_type": "markdown",
   "id": "4292ecef",
   "metadata": {},
   "source": [
    "### Rankine-Hugonoit jump conditions"
   ]
  },
  {
   "cell_type": "markdown",
   "id": "80e04f8b",
   "metadata": {},
   "source": [
    "The Rankine-Hugonoit give 3 conservation equations, of what enters and exists the shockwave shell, to describe the pre-shock and post-shock mediums. The notation 1 is for the pre-shock and 2 is the post-shock. The frame of reference is that of the shockwave hence $v_{1}=v_{sh}$ and $\\rho_{1}=\\rho_{csm}$"
   ]
  },
  {
   "cell_type": "markdown",
   "id": "684ec3ac",
   "metadata": {},
   "source": [
    "(1) Conservation of mass flux: $\\rho_{1}v_{1}=\\rho_{2}v_{2}$"
   ]
  },
  {
   "cell_type": "markdown",
   "id": "f1b24ab4",
   "metadata": {},
   "source": [
    "(2) Momentum flux conservation: $P_{1}+\\rho_{1}v_{1}^2=P_{2}+\\rho_{2}v_{2}^2$"
   ]
  },
  {
   "cell_type": "markdown",
   "id": "e8015f7d",
   "metadata": {},
   "source": [
    "Energy flux conservation: $(H_{den,1}+\\frac{1}{2}\\rho_{1}v_{1}^2)v_{1}=(H_{den,2}+\\frac{1}{2}\\rho_{2}v_{2}^2)v_{2}$. The enthalpy density is $H_{den}=(\\rho\\epsilon+P)$ where $\\epsilon$ is the specific internal energy."
   ]
  },
  {
   "cell_type": "markdown",
   "id": "80b31bae",
   "metadata": {},
   "source": [
    "Hence $(\\rho_{1}\\epsilon_{1}+P_{1}+\\frac{1}{2}\\rho_{1}v_{1}^2)v_{1}=(\\rho_{2}\\epsilon_{2}+P_{2}+\\frac{1}{2}\\rho_{2}v_{2}^2)v_{2}$ => $(\\epsilon_{1}+\\frac{P_{1}}{\\rho_{1}}+\\frac{1}{2}v_{1}^2)\\rho_{1}v_{1}=(\\epsilon_{2}+\\frac{P_{2}}{\\rho_{2}}+\\frac{1}{2}v_{2}^2)\\rho_{2}v_{2}$ "
   ]
  },
  {
   "cell_type": "markdown",
   "id": "64ae4f65",
   "metadata": {},
   "source": [
    "From eq. (1) we know that $\\rho_{1}v_{1}=\\rho_{2}v_{2}$ hence $(\\epsilon_{1}+\\frac{P_{1}}{\\rho_{1}}+\\frac{1}{2}v_{1}^2)=(\\epsilon_{2}+\\frac{P_{2}}{\\rho_{2}}+\\frac{1}{2}v_{2}^2)$"
   ]
  },
  {
   "cell_type": "markdown",
   "id": "51f0d227",
   "metadata": {},
   "source": [
    "Another equation of thermodynamics for an ideal gas is $P=(\\gamma-1)\\rho\\epsilon$ where $\\gamma$ is the adiabatic index.\n",
    "    Pluging this in the last equation gives us the final equation:"
   ]
  },
  {
   "cell_type": "markdown",
   "id": "cb48a33a",
   "metadata": {},
   "source": [
    "(3) $(\\frac{\\gamma}{\\gamma-1}\\frac{P_{1}}{\\rho_{1}}+\\frac{1}{2}v_{1}^2)=(\\frac{\\gamma}{\\gamma-1}\\frac{P_{2}}{\\rho_{2}}+\\frac{1}{2}v_{2}^2)$"
   ]
  },
  {
   "cell_type": "markdown",
   "id": "3010f03f",
   "metadata": {},
   "source": [
    "Manipulating these 3 equations gives the jump conditions:"
   ]
  },
  {
   "cell_type": "markdown",
   "id": "d5d74b9a",
   "metadata": {},
   "source": [
    "$\\frac{\\rho_{2}}{\\rho_{1}}=\\frac{(\\gamma+1)P_{2}+(\\gamma-1)P_{1}}{(\\gamma+1)P_{1}+(\\gamma-1)P_{2}}=\\frac{v_{1}}{v_{2}}$"
   ]
  },
  {
   "cell_type": "markdown",
   "id": "d7f30c6c",
   "metadata": {},
   "source": [
    "In a case of a strong shock i.e. $P_{2}>>P_{1}$ we get the following jump conditions:"
   ]
  },
  {
   "cell_type": "markdown",
   "id": "d6ee1a07",
   "metadata": {},
   "source": [
    "$\\frac{\\rho_{2}}{\\rho_{1}}=\\frac{(\\gamma+1)}{(\\gamma-1)}=\\frac{v_{1}}{v_{2}}$"
   ]
  },
  {
   "cell_type": "markdown",
   "id": "629601c0",
   "metadata": {},
   "source": [
    "For an ideal monoatomic gas the adiabatic index is 5/3 hence a 4 fold compression i.e. $\\rho_{2}=4\\rho_{1}$ and a velocity relation of $v_{2}=\\frac{v_{1}}{4}$."
   ]
  },
  {
   "cell_type": "markdown",
   "id": "a4483481",
   "metadata": {},
   "source": [
    "In eq. (2), we will assume a strong shock, i.e. $P_{1}\\approx0$. Hence $P_{2}=\\rho_{1}v_{1}^2(1-\\frac{1}{4})=\\frac{3}{4}\\rho_{1}v_{1}^2$"
   ]
  },
  {
   "cell_type": "markdown",
   "id": "55966924",
   "metadata": {},
   "source": [
    "In the begining we showed that $U_{den}=\\frac{3}{2}P$ \n",
    "\n",
    "Hence the internal energy density of the shocked CSM is:\n",
    "\n",
    "$U_{den}=\\frac{9}{8}\\rho_{1}v_{1}^2=\\frac{9}{8}\\rho_{csm}v_{sh}^2$"
   ]
  },
  {
   "cell_type": "markdown",
   "id": "de468a84",
   "metadata": {},
   "source": [
    "### Magnetic energy density"
   ]
  },
  {
   "cell_type": "markdown",
   "id": "47c15ded",
   "metadata": {},
   "source": [
    "We assume that the radiation, in the radio spectrum, which reached us is due to synchrotron radiation. This type of radiation is governed by the magnetic fields in the shocked CSM and the electrons spirialing around it. "
   ]
  },
  {
   "cell_type": "markdown",
   "id": "01895c21",
   "metadata": {},
   "source": [
    "The matter and temperature of the shocked CSM don't contribute to the radio emission. Hence we need to figure out the magnetic energy density and the electron density in order to figure out the behavior of the synchrotron radiation.\n",
    "\n",
    "The magnetic energy density and electron density are affected by the internal energy of the shocked CSM. The ratio between the internal energy and magnetic energy is defined as $\\epsilon_{B}$. \n",
    "\n",
    "The term for magnetic energy density is $\\frac{B^2}{8\\pi}$\n",
    "\n",
    "Hence we come to the following relationship:"
   ]
  },
  {
   "cell_type": "markdown",
   "id": "77a22d24",
   "metadata": {},
   "source": [
    "$\\frac{B^2}{8\\pi}=\\epsilon_{B}\\frac{9}{8}\\rho_{csm}v_{sh}^2$"
   ]
  },
  {
   "cell_type": "code",
   "execution_count": null,
   "id": "ecf49e9f",
   "metadata": {},
   "outputs": [],
   "source": []
  }
 ],
 "metadata": {
  "kernelspec": {
   "display_name": "Python 3 (ipykernel)",
   "language": "python",
   "name": "python3"
  },
  "language_info": {
   "codemirror_mode": {
    "name": "ipython",
    "version": 3
   },
   "file_extension": ".py",
   "mimetype": "text/x-python",
   "name": "python",
   "nbconvert_exporter": "python",
   "pygments_lexer": "ipython3",
   "version": "3.12.3"
  }
 },
 "nbformat": 4,
 "nbformat_minor": 5
}
